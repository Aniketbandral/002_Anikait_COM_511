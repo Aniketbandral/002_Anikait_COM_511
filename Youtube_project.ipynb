{
  "nbformat": 4,
  "nbformat_minor": 0,
  "metadata": {
    "colab": {
      "provenance": [],
      "toc_visible": true,
      "authorship_tag": "ABX9TyO+Tn+BnBF8/nfxcIyhYFew",
      "include_colab_link": true
    },
    "kernelspec": {
      "name": "python3",
      "display_name": "Python 3"
    },
    "language_info": {
      "name": "python"
    }
  },
  "cells": [
    {
      "cell_type": "markdown",
      "metadata": {
        "id": "view-in-github",
        "colab_type": "text"
      },
      "source": [
        "<a href=\"https://colab.research.google.com/github/Aniketbandral/002_Anikait_COM_511/blob/main/Youtube_project.ipynb\" target=\"_parent\"><img src=\"https://colab.research.google.com/assets/colab-badge.svg\" alt=\"Open In Colab\"/></a>"
      ]
    },
    {
      "cell_type": "code",
      "source": [
        "pip install pytube"
      ],
      "metadata": {
        "id": "7xQbMjdaZaAU",
        "colab": {
          "base_uri": "https://localhost:8080/"
        },
        "outputId": "5f798a19-461f-4fc4-fdda-11c5e5f8b8d8"
      },
      "execution_count": 63,
      "outputs": [
        {
          "output_type": "stream",
          "name": "stdout",
          "text": [
            "Looking in indexes: https://pypi.org/simple, https://us-python.pkg.dev/colab-wheels/public/simple/\n",
            "Requirement already satisfied: pytube in /usr/local/lib/python3.7/dist-packages (12.1.0)\n"
          ]
        }
      ]
    },
    {
      "cell_type": "code",
      "source": [
        "from pytube import YouTube"
      ],
      "metadata": {
        "id": "ascMXbKQI31g"
      },
      "execution_count": 64,
      "outputs": []
    },
    {
      "cell_type": "code",
      "source": [
        "print(\"\\n~~~~~~~~~~~~~~~~~~~~~~~~~~~~~~~~~~~~~\\n                Yt_Downloader         \\n~~~~~~~~~~~~~~~~~~~~~~~~~~~~~~~~~~~~~\")\n",
        "yt_link= input(\"Enter the youtube video URL you want to download: \")\n",
        "link = YouTube(yt_link)\n",
        "\n",
        "#-----------------------------------------------------------------------\n",
        "print(\"Dear user are you sure to download the Video/Audio (Y/N) or Press 'C' for activate the turbo  mode\")\n",
        "decision = input(\">> \")\n",
        "\n",
        "#--------------------------------------------------------------------\n",
        "\n",
        "if decision == \"Y\":\n",
        "  \n",
        "  title = link.title\n",
        "  desc = link.description\n",
        "  views = link.views\n",
        "\n",
        "  #------------------------------------------------------\n",
        "  print(\"---------------------------------\")\n",
        "  print(\"            About Video          \")\n",
        "  print(\"---------------------------------\")\n",
        "  print(\"Video Title: \",title)\n",
        "  print(\"_______________________________\")\n",
        "  print(\"Video description: \",desc[0:200])\n",
        "  print(\"_______________________________\")\n",
        "  print(\"Video views: \",views)\n",
        "  print(\"_______________________________\")\n",
        "  print(\"---------------------------------\")\n",
        "  print(\"---------------------------------\")\n",
        "\n",
        "\n",
        "\n",
        "\n",
        "\n",
        "  response =int(input(\"Press 1 for download video file >> \\nPress 2 for download audio file >>\\nResponse>>: \"))\n",
        "  if 1==response:\n",
        "    video  = link.streams.get_highest_resolution()\n",
        "    video.download()\n",
        "    print(\"Your video !!!!!! \",title,\" !!!!! is downloaded successfully\")\n",
        "  elif 2==response:\n",
        "    audio = link.streams.get_audio_only()\n",
        "    audio.download()\n",
        "    print(\"Your audio !!!!!\",title,\"!!!!! is download successfully\")\n",
        "\n",
        "\n",
        "elif decision == \"C\":\n",
        "  c = 0\n",
        "  print(\"~~~~~~~~~~~~~~~~~~~~~~~~~~~~~\")\n",
        "  print(\"    Turbo Mode Activated     \\n turbo mode help to download 5 videos continue \")\n",
        "  print(\"~~~~~~~~~~~~~~~~~~~~~~~~~~~~~\")\n",
        "  while c!=5:\n",
        "    yt_link= input(\"Enter the youtube video link you want to download : \")\n",
        "    link = YouTube(yt_link)\n",
        "    video  = link.streams.get_highest_resolution()\n",
        "    video.download()\n",
        "    c+=1\n",
        "    print(c, \") video is downloaded successfully\")\n",
        "  print(\"Downloads limit exceed\")\n",
        "    \n",
        "    \n",
        "\n",
        "\n",
        "\n",
        "else:\n",
        "  print(\"Retry Later\")\n",
        "  "
      ],
      "metadata": {
        "colab": {
          "base_uri": "https://localhost:8080/"
        },
        "id": "IyboOsDqJJTv",
        "outputId": "497c8499-d61d-4827-dea1-70bd26c97c39"
      },
      "execution_count": 69,
      "outputs": [
        {
          "output_type": "stream",
          "name": "stdout",
          "text": [
            "\n",
            "~~~~~~~~~~~~~~~~~~~~~~~~~~~~~~~~~~~~~\n",
            "                Yt_Downloader         \n",
            "~~~~~~~~~~~~~~~~~~~~~~~~~~~~~~~~~~~~~\n",
            "Enter the youtube video URL you want to download: https://www.youtube.com/watch?v=0VQYlBrMByc\n",
            "Dear user are you sure to download the Video/Audio (Y/N) or Press 'C' for activate the turbo  mode\n",
            ">> Y\n",
            "---------------------------------\n",
            "            About Video          \n",
            "---------------------------------\n",
            "Video Title:  Moon Rise || Atifaslam || New Song  || Bass Boosted || 2022\n",
            "_______________________________\n",
            "Video description:  Thanks For Watching.......\n",
            "\n",
            "#like #share #subscribe \n",
            "\n",
            "#bassboosted #bollywood #love #atifaslam #atif #bassboosted #hindi #urdu #pakistani #indian #songs #romantic\n",
            "_______________________________\n",
            "Video views:  421\n",
            "_______________________________\n",
            "---------------------------------\n",
            "---------------------------------\n",
            "Press 1 for download video file >> \n",
            "Press 2 for download audio file >>\n",
            "Response>>: 1\n",
            "Your video !!!!!!  Moon Rise || Atifaslam || New Song  || Bass Boosted || 2022  !!!!! is downloaded successfully\n"
          ]
        }
      ]
    },
    {
      "cell_type": "code",
      "source": [],
      "metadata": {
        "id": "sTkPKRR46gpW"
      },
      "execution_count": null,
      "outputs": []
    }
  ]
}