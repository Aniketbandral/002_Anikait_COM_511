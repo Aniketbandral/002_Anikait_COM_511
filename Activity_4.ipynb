{
  "nbformat": 4,
  "nbformat_minor": 0,
  "metadata": {
    "colab": {
      "provenance": [],
      "collapsed_sections": []
    },
    "kernelspec": {
      "name": "python3",
      "display_name": "Python 3"
    },
    "language_info": {
      "name": "python"
    }
  },
  "cells": [
    {
      "cell_type": "markdown",
      "source": [
        "Linear Search"
      ],
      "metadata": {
        "id": "FV5AKTTeKsyr"
      }
    },
    {
      "cell_type": "code",
      "source": [
        "def linear_search(list101,lenoflist,numbersearch):\n",
        "  for i in range(0,lenoflist):\n",
        "    if list101[i] == numbersearch:\n",
        "      print(numbersearch,\" is present in index: \",i)\n",
        "      break\n",
        "  else:\n",
        "     print(numbersearch,\"not present is the list\")\n",
        "     \n",
        "list101 = [1,2,3,4,5,6,7,43,56,45,2,8,9]\n",
        "numbersearch = int(input(\"Enter the Number: \"))\n",
        "lenoflist = len(list101)\n",
        "\n",
        "linear_search(list101,lenoflist,numbersearch)\n"
      ],
      "metadata": {
        "colab": {
          "base_uri": "https://localhost:8080/"
        },
        "id": "Y-2OBa8eKseH",
        "outputId": "112bd75a-bdc9-436a-e5f0-48912a1ae6b7"
      },
      "execution_count": 31,
      "outputs": [
        {
          "output_type": "stream",
          "name": "stdout",
          "text": [
            "Enter the Number: 56\n",
            "56  is present in index:  8\n"
          ]
        }
      ]
    },
    {
      "cell_type": "markdown",
      "source": [
        "Binary Search"
      ],
      "metadata": {
        "id": "oeaqLAltWVGs"
      }
    },
    {
      "cell_type": "code",
      "source": [
        "def binary_search(list123,n):\n",
        "  low = 0\n",
        "  high = len(list123)-1\n",
        "  mid = 0\n",
        "\n",
        "  while low<=high:\n",
        "    mid = (low+high)//2\n",
        "    if list123[mid]>n:\n",
        "      high = mid-1\n",
        "    elif list123[mid]<n:\n",
        "      low= mid+1\n",
        "    else:\n",
        "      return mid\n",
        "\n",
        "  return -1\n",
        "\n",
        "list123 =[1,2,3,4,5,6,7,8,9,10]\n",
        "n = int(input(\"enter the number\"))\n",
        "result = binary_search(list123,n)\n",
        "if result==-1:\n",
        "  print(\"not found\")\n",
        "else:\n",
        "  print(\"found\")"
      ],
      "metadata": {
        "colab": {
          "base_uri": "https://localhost:8080/"
        },
        "id": "yqWsibuGP4CU",
        "outputId": "739b9980-f650-4520-e2e4-171e2d81a155"
      },
      "execution_count": 10,
      "outputs": [
        {
          "output_type": "stream",
          "name": "stdout",
          "text": [
            "enter the number69\n",
            "not found\n"
          ]
        }
      ]
    }
  ]
}