{
  "nbformat": 4,
  "nbformat_minor": 0,
  "metadata": {
    "colab": {
      "provenance": [],
      "collapsed_sections": []
    },
    "kernelspec": {
      "name": "python3",
      "display_name": "Python 3"
    },
    "language_info": {
      "name": "python"
    }
  },
  "cells": [
    {
      "cell_type": "markdown",
      "source": [
        "## **Activity-1**"
      ],
      "metadata": {
        "id": "FmET5BB5dCKy"
      }
    },
    {
      "cell_type": "code",
      "source": [
        "#1. Abs():The abs() function returns the absolute value of the given number. \n",
        "#If the number is a complex number, abs() returns its magnitude.\n",
        "\n",
        "int_number = -20\n",
        "print(\"int: \",abs(int_number))\n",
        "\n",
        "flt_number = -30.00\n",
        "print(\"float: \",abs(flt_number))"
      ],
      "metadata": {
        "colab": {
          "base_uri": "https://localhost:8080/"
        },
        "id": "KFJW2foedE4B",
        "outputId": "b01c00b6-ffc6-47ce-8911-64a75cbac2d1"
      },
      "execution_count": 3,
      "outputs": [
        {
          "output_type": "stream",
          "name": "stdout",
          "text": [
            "int:  20\n",
            "float:  30.0\n"
          ]
        }
      ]
    },
    {
      "cell_type": "code",
      "source": [
        "#2. Len():The len() function returns the number of items (length) in an object.\n",
        "\n",
        "brand_list = [\"apple\", \"sony\", \"realme\", \"oneplus\"]\n",
        "print(\"Brand Tupple: \", brand_list)\n",
        "print(\"Brand List: \", len(brand_list))\n",
        "\n",
        "print(\"***********************************\")\n",
        "\n",
        "brand_tupple = (\"apple\", \"sony\", \"realme\", \"oneplus\", \"Matrola\")\n",
        "print(\"Brand Tupple: \", (brand_tupple))\n",
        "print(\"Brand Tupple: \", len(brand_tupple))\n",
        "\n",
        "\n"
      ],
      "metadata": {
        "colab": {
          "base_uri": "https://localhost:8080/"
        },
        "id": "f3p8TBTzdeii",
        "outputId": "66bdce35-cb97-4ae2-d05e-440fd5c20ab5"
      },
      "execution_count": 11,
      "outputs": [
        {
          "output_type": "stream",
          "name": "stdout",
          "text": [
            "Brand Tupple:  ['apple', 'sony', 'realme', 'oneplus']\n",
            "Brand List:  4\n",
            "***********************************\n",
            "Brand Tupple:  ('apple', 'sony', 'realme', 'oneplus', 'Matrola')\n",
            "Brand Tupple:  5\n"
          ]
        }
      ]
    },
    {
      "cell_type": "code",
      "source": [
        "#3. Min():The min() function returns the smallest item in an iterable. \n",
        "#It can also be used to find the smallest item between two or more parameters.\n",
        "\n",
        "number_list = [1,5,7,3,2,7]\n",
        "print(\"Minimum number in the list: \",min(number_list))"
      ],
      "metadata": {
        "colab": {
          "base_uri": "https://localhost:8080/"
        },
        "id": "R8ZaR_8be8Hf",
        "outputId": "cdb1f34e-2058-4ce6-a8eb-aae207c7f3fe"
      },
      "execution_count": 14,
      "outputs": [
        {
          "output_type": "stream",
          "name": "stdout",
          "text": [
            "Minimum number in the list:  1\n"
          ]
        }
      ]
    },
    {
      "cell_type": "code",
      "source": [
        "#4. Round():Python round() function float point number from the decimal value to\n",
        "#the closest multiple of 10. The int value to the closest multiple of 10 to the \n",
        "#power minus ndigits, where ndigits is the precision after the decimal point. \n",
        "#If two multiples are equally close, rounding is done toward the even choice.\n",
        "\n",
        "print(round(23.5))\n",
        "print(round(26.5))\n",
        "print(round(93.5))\n",
        "print(round(13.5))"
      ],
      "metadata": {
        "colab": {
          "base_uri": "https://localhost:8080/"
        },
        "id": "hGHu46yGi8J0",
        "outputId": "78231b7f-2e7d-4183-8aa3-1722fd483ce3"
      },
      "execution_count": 15,
      "outputs": [
        {
          "output_type": "stream",
          "name": "stdout",
          "text": [
            "24\n",
            "26\n",
            "94\n",
            "14\n"
          ]
        }
      ]
    },
    {
      "cell_type": "code",
      "source": [
        "#Isalnum():The isalnum() method returns True if all characters in the string are\n",
        "#alphanumeric (either alphabets or numbers). If not, it returns False.\n",
        "\n",
        "string = \"Error101\" #True\n",
        "print(string.isalnum())\n",
        "string2 = \"Blue eyes 143\"  #False #this string contain space\n",
        "print(string2.isalnum())"
      ],
      "metadata": {
        "colab": {
          "base_uri": "https://localhost:8080/"
        },
        "id": "VR16SknSju48",
        "outputId": "9176efc8-c616-4a91-f799-ffb4eb97c464"
      },
      "execution_count": 18,
      "outputs": [
        {
          "output_type": "stream",
          "name": "stdout",
          "text": [
            "True\n",
            "False\n"
          ]
        }
      ]
    },
    {
      "cell_type": "markdown",
      "source": [
        "# **Activity-2**"
      ],
      "metadata": {
        "id": "eaIfFQZvkx5k"
      }
    },
    {
      "cell_type": "code",
      "source": [
        " #1: Using For loop\n",
        "\n",
        "random_list = [1,4,5,\"apple\",6,\"Blue\"]\n",
        "list_count = len(random_list)\n",
        "for i in range(list_count):\n",
        "  print(\"obj\",i+1,\":\",random_list[i])"
      ],
      "metadata": {
        "colab": {
          "base_uri": "https://localhost:8080/"
        },
        "id": "K1qXgJUukdCz",
        "outputId": "657ab68e-6ad8-42b2-daa8-5c4cad508ea8"
      },
      "execution_count": 26,
      "outputs": [
        {
          "output_type": "stream",
          "name": "stdout",
          "text": [
            "obj 1 : 1\n",
            "obj 2 : 4\n",
            "obj 3 : 5\n",
            "obj 4 : apple\n",
            "obj 5 : 6\n",
            "obj 6 : Blue\n"
          ]
        }
      ]
    },
    {
      "cell_type": "code",
      "source": [
        "#Method #2: For loop and range()\n",
        "\n",
        "item_list = [1,2,5,6,7,9,7]\n",
        "item_count = len(item_list)\n",
        "\n",
        "for i in range(item_count):\n",
        "  print(item_list[i])"
      ],
      "metadata": {
        "colab": {
          "base_uri": "https://localhost:8080/"
        },
        "id": "4OMvPx4Sld7D",
        "outputId": "287fafa3-ce94-4fc5-f28c-7051c39012dc"
      },
      "execution_count": 35,
      "outputs": [
        {
          "output_type": "stream",
          "name": "stdout",
          "text": [
            "1\n",
            "2\n",
            "5\n",
            "6\n",
            "7\n",
            "9\n",
            "7\n"
          ]
        }
      ]
    },
    {
      "cell_type": "code",
      "source": [
        "#Method #3: Using while loop\n",
        "\n",
        "item_list1 = [1,2,5,6,7,9]\n",
        "length = len(item_list1)\n",
        "i = 0\n",
        "while i<length:\n",
        "  print(item_list1[i])\n",
        "  i+=1"
      ],
      "metadata": {
        "colab": {
          "base_uri": "https://localhost:8080/"
        },
        "id": "pus9dUw6mwYa",
        "outputId": "28264725-3644-4766-99c0-5dac7dc43fd5"
      },
      "execution_count": 34,
      "outputs": [
        {
          "output_type": "stream",
          "name": "stdout",
          "text": [
            "1\n",
            "2\n",
            "5\n",
            "6\n",
            "7\n",
            "9\n"
          ]
        }
      ]
    },
    {
      "cell_type": "code",
      "source": [
        "#Method #4: Using list comprehension (Possibly the most concrete way)\n",
        "\n",
        "item_list2 = [1,2,5,6,7,9,1]\n",
        "[print(i) for i in item_list2]\n"
      ],
      "metadata": {
        "colab": {
          "base_uri": "https://localhost:8080/"
        },
        "id": "2xYHCqbRoWOK",
        "outputId": "6456b222-074e-436f-f477-12c9cbc92b2d"
      },
      "execution_count": 37,
      "outputs": [
        {
          "output_type": "stream",
          "name": "stdout",
          "text": [
            "1\n",
            "2\n",
            "5\n",
            "6\n",
            "7\n",
            "9\n",
            "1\n"
          ]
        },
        {
          "output_type": "execute_result",
          "data": {
            "text/plain": [
              "[None, None, None, None, None, None, None]"
            ]
          },
          "metadata": {},
          "execution_count": 37
        }
      ]
    },
    {
      "cell_type": "markdown",
      "source": [
        "# **DICTIONARY**"
      ],
      "metadata": {
        "id": "gDZuYuMiqpiy"
      }
    },
    {
      "cell_type": "code",
      "source": [
        "#Example 1: Access key using the build .keys()\n",
        "\n",
        "state_capital = {\"Gujarat\" : \"Gandhinagar\",\"Maharashtra\":\"Mumbai\", \"Rajasthan\" \n",
        "                 :\"Jaipur\",\"Bihar\" : \"Patna\" }\n",
        "\n",
        "print(state_capital.keys())\n"
      ],
      "metadata": {
        "colab": {
          "base_uri": "https://localhost:8080/"
        },
        "id": "Jx1kDfxyqLOI",
        "outputId": "caeaa271-b0d6-42bb-ccb1-516e390e8f59"
      },
      "execution_count": 40,
      "outputs": [
        {
          "output_type": "stream",
          "name": "stdout",
          "text": [
            "dict_keys(['Gujarat', 'Maharashtra', 'Rajasthan', 'Bihar'])\n"
          ]
        }
      ]
    },
    {
      "cell_type": "code",
      "source": [
        "#Example 2: Access key without using a key()\n",
        "state_capital = {\"Gujarat\" : \"Gandhinagar\",\"Maharashtra\":\"Mumbai\", \"Rajasthan\" \n",
        "                 :\"Jaipur\",\"Bihar\" : \"Patna\" }\n",
        "for state in state_capital:\n",
        "  print(state)\n"
      ],
      "metadata": {
        "colab": {
          "base_uri": "https://localhost:8080/"
        },
        "id": "eKObDVRls59_",
        "outputId": "547147ea-8aac-49d1-d2fc-a3236deaa3dd"
      },
      "execution_count": 43,
      "outputs": [
        {
          "output_type": "stream",
          "name": "stdout",
          "text": [
            "Gujarat\n",
            "Maharashtra\n",
            "Rajasthan\n",
            "Bihar\n"
          ]
        }
      ]
    },
    {
      "cell_type": "code",
      "source": [
        "#Example 3: Iterate through all values using .values()\n",
        "state_capital = {\"Gujarat\" : \"Gandhinagar\",\"Maharashtra\":\"Mumbai\", \"Rajasthan\" \n",
        "                 :\"Jaipur\",\"Bihar\" : \"Patna\" }\n",
        "print(state_capital.values())\n"
      ],
      "metadata": {
        "colab": {
          "base_uri": "https://localhost:8080/"
        },
        "id": "HuCaJgHottT2",
        "outputId": "67ff0c05-79a8-4d21-a308-178c63a54776"
      },
      "execution_count": 45,
      "outputs": [
        {
          "output_type": "stream",
          "name": "stdout",
          "text": [
            "dict_values(['Gandhinagar', 'Mumbai', 'Jaipur', 'Patna'])\n"
          ]
        }
      ]
    },
    {
      "cell_type": "code",
      "source": [
        "#Example 4: Iterate through all key, and value pairs using items()\n",
        "stateAndCapital = {\"Gujarat\" : \"Gandhinagar\",\"Maharashtra\":\"Mumbai\", \"Rajasthan\" \n",
        "                 :\"Jaipur\",\"Bihar\" : \"Patna\" }\n",
        "for i in stateAndCapital:\n",
        "  print(i ,\":\", stateAndCapital[i])\n",
        "\n"
      ],
      "metadata": {
        "colab": {
          "base_uri": "https://localhost:8080/"
        },
        "id": "VR4ZmkTAuusm",
        "outputId": "46591234-e499-45cd-d758-436f2c1893f2"
      },
      "execution_count": 54,
      "outputs": [
        {
          "output_type": "stream",
          "name": "stdout",
          "text": [
            "Gujarat : Gandhinagar\n",
            "Maharashtra : Mumbai\n",
            "Rajasthan : Jaipur\n",
            "Bihar : Patna\n"
          ]
        }
      ]
    },
    {
      "cell_type": "code",
      "source": [
        "#Example 5: Access both key and value without using items()\n",
        "stateAndCapital = {\"Gujarat\" : \"Gandhinagar\",\"Maharashtra\":\"Mumbai\", \"Rajasthan\" \n",
        "                 :\"Jaipur\",\"Bihar\" : \"Patna\" }\n",
        "for i in stateAndCapital:\n",
        "  print( i , \"->\", stateAndCapital[i])\n"
      ],
      "metadata": {
        "colab": {
          "base_uri": "https://localhost:8080/"
        },
        "id": "CAPDDHQExo8K",
        "outputId": "525d7d48-e7a6-4a5a-a195-c31503946f50"
      },
      "execution_count": 52,
      "outputs": [
        {
          "output_type": "stream",
          "name": "stdout",
          "text": [
            "Gujarat -> Gandhinagar\n",
            "Maharashtra -> Mumbai\n",
            "Rajasthan -> Jaipur\n",
            "Bihar -> Patna\n"
          ]
        }
      ]
    },
    {
      "cell_type": "code",
      "source": [
        "#Example 6: Print items in Key-Value in pair\n",
        "stateAndCapital = {\"Gujarat\" : \"Gandhinagar\",\"Maharashtra\":\"Mumbai\", \"Rajasthan\" \n",
        "                 :\"Jaipur\",\"Bihar\" : \"Patna\" }\n",
        "\n",
        "print(stateAndCapital.items())"
      ],
      "metadata": {
        "colab": {
          "base_uri": "https://localhost:8080/"
        },
        "id": "Y1PMhTbTxXNv",
        "outputId": "128d79f5-d206-4218-fca9-22dc10870088"
      },
      "execution_count": 50,
      "outputs": [
        {
          "output_type": "stream",
          "name": "stdout",
          "text": [
            "dict_items([('Gujarat', 'Gandhinagar'), ('Maharashtra', 'Mumbai'), ('Rajasthan', 'Jaipur'), ('Bihar', 'Patna')])\n"
          ]
        }
      ]
    },
    {
      "cell_type": "markdown",
      "source": [
        "### **Activity-3**"
      ],
      "metadata": {
        "id": "7hOiGPdrzrHR"
      }
    },
    {
      "cell_type": "code",
      "source": [
        "#A. Count the number of alphabets in the given string.\n",
        "#Method #1 : Using isalpha() + len()\n",
        "\n",
        "test = \"asdas 32323 afdasf 565 fdg 56\"\n",
        "\n",
        "print(test.isalpha())\n",
        "print(\"string length: \",len(test))"
      ],
      "metadata": {
        "colab": {
          "base_uri": "https://localhost:8080/"
        },
        "id": "m89KpJBWxikN",
        "outputId": "ed3385d5-5d45-4f59-df8e-bf8f4b9dc209"
      },
      "execution_count": 56,
      "outputs": [
        {
          "output_type": "stream",
          "name": "stdout",
          "text": [
            "False\n",
            "string length:  29\n"
          ]
        }
      ]
    },
    {
      "cell_type": "code",
      "source": [
        "#B. To extract characters in the given, range from the given string.\n",
        "list101 = [\"ani\",\"blur\",\"fox\",\"medox\",\"snake\"]\n",
        "print(\"\".join(list101)[2:9])"
      ],
      "metadata": {
        "colab": {
          "base_uri": "https://localhost:8080/"
        },
        "id": "2frNnD3A8KXY",
        "outputId": "99ac4adc-df66-4c0d-ad99-285b8fe26941"
      },
      "execution_count": 11,
      "outputs": [
        {
          "output_type": "stream",
          "name": "stdout",
          "text": [
            "iblurfo\n"
          ]
        }
      ]
    },
    {
      "cell_type": "code",
      "source": [
        "#C. Check if the string is alphanumeric or not.\n",
        "   #Example 2: isalnum() in if...else Statement\n",
        "\n",
        "password = \"ano123awer\"\n",
        "\n",
        "if password.isalnum():\n",
        "  print(\"Password is alphanumeric.\")\n",
        "else:\n",
        "  print(\"Password is not alphanumeric.\")\n"
      ],
      "metadata": {
        "colab": {
          "base_uri": "https://localhost:8080/"
        },
        "id": "S4qoekWe0x1T",
        "outputId": "0490c124-32c8-4350-f397-a149a80d59b6"
      },
      "execution_count": 61,
      "outputs": [
        {
          "output_type": "stream",
          "name": "stdout",
          "text": [
            "Password is alphanumeric.\n"
          ]
        }
      ]
    }
  ]
}